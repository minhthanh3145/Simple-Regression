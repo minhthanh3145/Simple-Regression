{
 "cells": [
  {
   "cell_type": "markdown",
   "metadata": {},
   "source": [
    "# Regression Week 1: Simple Linear Regression"
   ]
  },
  {
   "cell_type": "markdown",
   "metadata": {},
   "source": [
    "In this notebook we will use data on house sales in King County to predict house prices using simple (one input) linear regression. You will:\n",
    "* Use graphlab SArray and SFrame functions to compute important summary statistics\n",
    "* Write a function to compute the Simple Linear Regression weights using the closed form solution\n",
    "* Write a function to make predictions of the output given the input feature\n",
    "* Turn the regression around to predict the input given the output\n",
    "* Compare two different models for predicting house prices\n",
    "\n",
    "In this notebook you will be provided with some already complete code as well as some code that you should complete yourself in order to answer quiz questions. The code we provide to complte is optional and is there to assist you with solving the problems but feel free to ignore the helper code and write your own."
   ]
  },
  {
   "cell_type": "markdown",
   "metadata": {},
   "source": [
    "# Fire up graphlab create"
   ]
  },
  {
   "cell_type": "code",
   "execution_count": 88,
   "metadata": {
    "collapsed": false
   },
   "outputs": [],
   "source": [
    "import graphlab"
   ]
  },
  {
   "cell_type": "markdown",
   "metadata": {},
   "source": [
    "# Load house sales data\n",
    "\n",
    "Dataset is from house sales in King County, the region where the city of Seattle, WA is located."
   ]
  },
  {
   "cell_type": "code",
   "execution_count": 2,
   "metadata": {
    "collapsed": false
   },
   "outputs": [
    {
     "name": "stdout",
     "output_type": "stream",
     "text": [
      "This non-commercial license of GraphLab Create for academic use is assigned to mitatoto1997@gmail.com and will expire on October 06, 2019.\n"
     ]
    },
    {
     "name": "stderr",
     "output_type": "stream",
     "text": [
      "[INFO] graphlab.cython.cy_server: GraphLab Create v2.1 started. Logging: C:\\Users\\thanhto\\AppData\\Local\\Temp\\graphlab_server_1538813189.log.0\n"
     ]
    }
   ],
   "source": [
    "sales = graphlab.SFrame('kc_house_data.gl/')"
   ]
  },
  {
   "cell_type": "markdown",
   "metadata": {},
   "source": [
    "# Split data into training and testing"
   ]
  },
  {
   "cell_type": "markdown",
   "metadata": {},
   "source": [
    "We use seed=0 so that everyone running this notebook gets the same results.  In practice, you may set a random seed (or let GraphLab Create pick a random seed for you).  "
   ]
  },
  {
   "cell_type": "code",
   "execution_count": 3,
   "metadata": {
    "collapsed": false
   },
   "outputs": [],
   "source": [
    "train_data,test_data = sales.random_split(.8,seed=0)"
   ]
  },
  {
   "cell_type": "markdown",
   "metadata": {},
   "source": [
    "# Useful SFrame summary functions"
   ]
  },
  {
   "cell_type": "markdown",
   "metadata": {},
   "source": [
    "In order to make use of the closed form solution as well as take advantage of graphlab's built in functions we will review some important ones. In particular:\n",
    "* Computing the sum of an SArray\n",
    "* Computing the arithmetic average (mean) of an SArray\n",
    "* multiplying SArrays by constants\n",
    "* multiplying SArrays by other SArrays"
   ]
  },
  {
   "cell_type": "code",
   "execution_count": 4,
   "metadata": {
    "collapsed": false
   },
   "outputs": [
    {
     "name": "stdout",
     "output_type": "stream",
     "text": [
      "average price via method 1: 540088.141905\n",
      "average price via method 2: 540088.141905\n"
     ]
    }
   ],
   "source": [
    "# Let's compute the mean of the House Prices in King County in 2 different ways.\n",
    "prices = sales['price'] # extract the price column of the sales SFrame -- this is now an SArray\n",
    "\n",
    "# recall that the arithmetic average (the mean) is the sum of the prices divided by the total number of houses:\n",
    "sum_prices = prices.sum()\n",
    "num_houses = prices.size() # when prices is an SArray .size() returns its length\n",
    "avg_price_1 = sum_prices/num_houses\n",
    "avg_price_2 = prices.mean() # if you just want the average, the .mean() function\n",
    "print \"average price via method 1: \" + str(avg_price_1)\n",
    "print \"average price via method 2: \" + str(avg_price_2)"
   ]
  },
  {
   "cell_type": "markdown",
   "metadata": {},
   "source": [
    "As we see we get the same answer both ways"
   ]
  },
  {
   "cell_type": "code",
   "execution_count": 5,
   "metadata": {
    "collapsed": false
   },
   "outputs": [
    {
     "name": "stdout",
     "output_type": "stream",
     "text": [
      "the sum of price squared is: 9.21732513355e+15\n"
     ]
    }
   ],
   "source": [
    "# if we want to multiply every price by 0.5 it's a simple as:\n",
    "half_prices = 0.5*prices\n",
    "# Let's compute the sum of squares of price. We can multiply two SArrays of the same length elementwise also with *\n",
    "prices_squared = prices*prices\n",
    "sum_prices_squared = prices_squared.sum() # price_squared is an SArray of the squares and we want to add them up.\n",
    "print \"the sum of price squared is: \" + str(sum_prices_squared)"
   ]
  },
  {
   "cell_type": "markdown",
   "metadata": {},
   "source": [
    "Aside: The python notation x.xxe+yy means x.xx \\* 10^(yy). e.g 100 = 10^2 = 1*10^2 = 1e2 "
   ]
  },
  {
   "cell_type": "markdown",
   "metadata": {},
   "source": [
    "# Build a generic simple linear regression function "
   ]
  },
  {
   "cell_type": "markdown",
   "metadata": {},
   "source": [
    "Armed with these SArray functions we can use the closed form solution found from lecture to compute the slope and intercept for a simple linear regression on observations stored as SArrays: input_feature, output.\n",
    "\n",
    "Complete the following function (or write your own) to compute the simple linear regression slope and intercept:"
   ]
  },
  {
   "cell_type": "code",
   "execution_count": 32,
   "metadata": {
    "collapsed": false
   },
   "outputs": [],
   "source": [
    "def simple_linear_regression(input_feature, output):\n",
    "    N = input_feature.size()\n",
    "    # compute the sum of input_feature and output   \n",
    "    b = input_feature.sum()\n",
    "    c = output.sum()\n",
    "    # compute the product of the output and the input_feature and its sum\n",
    "    a = (input_feature * output).sum()\n",
    "    # compute the squared value of the input_feature and its sum\n",
    "    d = (input_feature * input_feature).sum()\n",
    "    # use the formula for the slope\n",
    "    slope = (a - ((b*c)/N)) / (d - ((b*b)/N))\n",
    "    # use the formula for the intercept\n",
    "    intercept = (c/N) - (slope*(b/N))\n",
    "    return (intercept, slope)"
   ]
  },
  {
   "cell_type": "markdown",
   "metadata": {},
   "source": [
    "We can test that our function works by passing it something where we know the answer. In particular we can generate a feature and then put the output exactly on a line: output = 1 + 1\\*input_feature then we know both our slope and intercept should be 1"
   ]
  },
  {
   "cell_type": "code",
   "execution_count": 33,
   "metadata": {
    "collapsed": false,
    "scrolled": true
   },
   "outputs": [
    {
     "name": "stdout",
     "output_type": "stream",
     "text": [
      "Intercept: 1\n",
      "Slope: 1\n"
     ]
    }
   ],
   "source": [
    "test_feature = graphlab.SArray(range(5))\n",
    "test_output = graphlab.SArray(1 + 1*test_feature)\n",
    "(test_intercept, test_slope) =  simple_linear_regression(test_feature, test_output)\n",
    "print \"Intercept: \" + str(test_intercept)\n",
    "print \"Slope: \" + str(test_slope)"
   ]
  },
  {
   "cell_type": "markdown",
   "metadata": {},
   "source": [
    "Now that we know it works let's build a regression model for predicting price based on sqft_living. Rembember that we train on train_data!"
   ]
  },
  {
   "cell_type": "code",
   "execution_count": 34,
   "metadata": {
    "collapsed": false
   },
   "outputs": [
    {
     "name": "stdout",
     "output_type": "stream",
     "text": [
      "Intercept: -47116.0765749\n",
      "Slope: 281.958838568\n"
     ]
    }
   ],
   "source": [
    "sqft_intercept, sqft_slope = simple_linear_regression(train_data['sqft_living'], train_data['price'])\n",
    "\n",
    "print \"Intercept: \" + str(sqft_intercept)\n",
    "print \"Slope: \" + str(sqft_slope)"
   ]
  },
  {
   "cell_type": "markdown",
   "metadata": {},
   "source": [
    "# Predicting Values"
   ]
  },
  {
   "cell_type": "markdown",
   "metadata": {},
   "source": [
    "Now that we have the model parameters: intercept & slope we can make predictions. Using SArrays it's easy to multiply an SArray by a constant and add a constant value. Complete the following function to return the predicted output given the input_feature, slope and intercept:"
   ]
  },
  {
   "cell_type": "code",
   "execution_count": 42,
   "metadata": {
    "collapsed": false
   },
   "outputs": [],
   "source": [
    "def get_regression_predictions(input_feature, intercept, slope):\n",
    "    # calculate the predicted values:\n",
    "    predicted_values = intercept + slope * input_feature\n",
    "    return predicted_values"
   ]
  },
  {
   "cell_type": "markdown",
   "metadata": {},
   "source": [
    "Now that we can calculate a prediction given the slope and intercept let's make a prediction. Use (or alter) the following to find out the estimated price for a house with 2650 squarefeet according to the squarefeet model we estiamted above.\n",
    "\n",
    "**Quiz Question: Using your Slope and Intercept from (4), What is the predicted price for a house with 2650 sqft?**"
   ]
  },
  {
   "cell_type": "code",
   "execution_count": 43,
   "metadata": {
    "collapsed": false,
    "scrolled": true
   },
   "outputs": [
    {
     "name": "stdout",
     "output_type": "stream",
     "text": [
      "(281.9588385676974, -47116.07657494, 2650)\n",
      "The estimated price for a house with 2650 squarefeet is $700074.85\n"
     ]
    }
   ],
   "source": [
    "my_house_sqft = 2650\n",
    "estimated_price = get_regression_predictions(my_house_sqft, sqft_intercept, sqft_slope)\n",
    "print \"The estimated price for a house with %d squarefeet is $%.2f\" % (my_house_sqft, estimated_price)"
   ]
  },
  {
   "cell_type": "markdown",
   "metadata": {},
   "source": [
    "# Residual Sum of Squares"
   ]
  },
  {
   "cell_type": "markdown",
   "metadata": {},
   "source": [
    "Now that we have a model and can make predictions let's evaluate our model using Residual Sum of Squares (RSS). Recall that RSS is the sum of the squares of the residuals and the residuals is just a fancy word for the difference between the predicted output and the true output. \n",
    "\n",
    "Complete the following (or write your own) function to compute the RSS of a simple linear regression model given the input_feature, output, intercept and slope:"
   ]
  },
  {
   "cell_type": "code",
   "execution_count": 52,
   "metadata": {
    "collapsed": true
   },
   "outputs": [],
   "source": [
    "def get_residual_sum_of_squares(input_feature, output, intercept, slope):\n",
    "    # First get the predictions\n",
    "    predictions = get_regression_predictions(input_feature, intercept, slope)\n",
    "    # then compute the residuals (since we are squaring it doesn't matter which order you subtract)\n",
    "    residual_sum = predictions - output\n",
    "    # square the residuals and add them up\n",
    "    RSS = residual_sum * residual_sum\n",
    "    return(RSS)"
   ]
  },
  {
   "cell_type": "markdown",
   "metadata": {},
   "source": [
    "Let's test our get_residual_sum_of_squares function by applying it to the test model where the data lie exactly on a line. Since they lie exactly on a line the residual sum of squares should be zero!"
   ]
  },
  {
   "cell_type": "code",
   "execution_count": 53,
   "metadata": {
    "collapsed": false
   },
   "outputs": [
    {
     "name": "stdout",
     "output_type": "stream",
     "text": [
      "(1L, 1L, dtype: int\n",
      "Rows: 5\n",
      "[0L, 1L, 2L, 3L, 4L])\n",
      "[0L, 0L, 0L, 0L, 0L]\n"
     ]
    }
   ],
   "source": [
    "print get_residual_sum_of_squares(test_feature, test_output, test_intercept, test_slope) # should be 0.0"
   ]
  },
  {
   "cell_type": "markdown",
   "metadata": {},
   "source": [
    "Now use your function to calculate the RSS on training data from the squarefeet model calculated above.\n",
    "\n",
    "**Quiz Question: According to this function and the slope and intercept from the squarefeet model What is the RSS for the simple linear regression using squarefeet to predict prices on TRAINING data?**"
   ]
  },
  {
   "cell_type": "code",
   "execution_count": 70,
   "metadata": {
    "collapsed": false
   },
   "outputs": [
    {
     "name": "stdout",
     "output_type": "stream",
     "text": [
      "(281.9588385676974, -47116.07657494, dtype: float\n",
      "Rows: ?\n",
      "[1180.0, 2570.0, 770.0, 1960.0, 1680.0, 5420.0, 1715.0, 1060.0, 1780.0, 1890.0, 3560.0, 1160.0, 1370.0, 1810.0, 1890.0, 1600.0, 1200.0, 1250.0, 1620.0, 3050.0, 2270.0, 1070.0, 2450.0, 2450.0, 1400.0, 1520.0, 2570.0, 1190.0, 2330.0, 2060.0, 2300.0, 1660.0, 2360.0, 1220.0, 2570.0, 3595.0, 1570.0, 1280.0, 3160.0, 990.0, 2290.0, 1250.0, 2753.0, 1190.0, 3150.0, 1410.0, 1980.0, 2730.0, 2830.0, 2420.0, 3250.0, 1850.0, 2150.0, 2519.0, 1540.0, 1660.0, 2770.0, 2720.0, 2240.0, 1000.0, 3200.0, 4770.0, 1260.0, 2380.0, 3430.0, 1760.0, 1040.0, 1410.0, 3450.0, 2350.0, 2020.0, 1680.0, 960.0, 2140.0, 2660.0, 2770.0, 1610.0, 1030.0, 3520.0, 1200.0, 1580.0, 1580.0, 3300.0, 1160.0, 1810.0, 2320.0, 2070.0, 1980.0, 2190.0, 2920.0, 1210.0, 2340.0, 1670.0, 1240.0, 3140.0, 2310.0, 1260.0, 1540.0, 2080.0, 4380.0, ... ])\n",
      "The RSS of predicting Prices based on Square Feet is : [4057097985.5069427, 19465310982.794598, 100155477.94280235, 9697670877.927692, 6959768630.346498, 65587634338.9125, 32020715912.891758, 1607184662.9246771, 50746868488.71385, 26499323572.76698, 86528569342.13597, 35360479683.01917, 3700589130.9968166, 4458310188.934594, 8242121094.973821, 6558073774.742162, 10451899064.267694, 5674981282.59013, 607979578.3483634, 1409305223427.7065, 94821184807.88039, 3533951.4180199825, 99025439526.63614, 86034816780.87904, 101999561899.76283, 3196618033.7809734, 1720744829.851264, 70811237.4294761, 6029830419.136589, 44613521247.3862, 8951193612.376131, 16657620522.507473, 470595687.8961154, 3234618488.5059843, 2758154876.131228, 10927764440.133972, 83775918830.18349, 22955949.994261384, 126646199461.86662, 463677565.5926647, 34756270276.119934, 20928693763.330162, 385496188942.5615, 3649965134.7739453, 246069833738.68115, 62277255911.394905, 5451987660.700342, 38954303983.74159, 18002276776.9363, 111705891239.15076, 6683038176.114613, 1980942015.4488466, 8263641511.286532, 25007702247.24336, 26211436825.79217, 16519384.36688945, 173293123177.88364, 65120933549.52305, 88489425280.59344, 951275967.3418794, 220756948735.7325, 66475062758.262276, 283853081.5575954, 69667469386.54924, 7656729457.151884, 4779161430.78806, 54699332598.37517, 3546692517.489962, 42288597815.0545, 50844474684.668274, 28036413913.480343, 4980798473.734326, 8360467402.0893755, 147244232533.35205, 158319980620.22467, 74479816933.52208, 36801685307.69617, 8408609923.061006, 23870548129.27422, 19108785203.12107, 999894701.221475, 90975294985.72966, 468805176.40205383, 6553902459.030056, 22269420161.414474, 28739888206.020477, 98779009149.06778, 1921733088.0463922, 16789996818.431234, 97216912712.07774, 16435873.503669491, 56485890786.56094, 1313686698.9713151, 12998937546.751194, 25038212855.80365, 41716620.81682031, 68564343671.581825, 13133282580.872793, 43851839311.10759, 200134223129.70395, ... ]\n"
     ]
    }
   ],
   "source": [
    "rss_prices_on_sqft = get_residual_sum_of_squares(train_data['sqft_living'], train_data['price'], sqft_intercept, sqft_slope)\n",
    "print 'The RSS of predicting Prices based on Square Feet is : ' + str(rss_prices_on_sqft)"
   ]
  },
  {
   "cell_type": "markdown",
   "metadata": {},
   "source": [
    "# Predict the squarefeet given price"
   ]
  },
  {
   "cell_type": "markdown",
   "metadata": {},
   "source": [
    "What if we want to predict the squarefoot given the price? Since we have an equation y = a + b\\*x we can solve the function for x. So that if we have the intercept (a) and the slope (b) and the price (y) we can solve for the estimated squarefeet (x).\n",
    "\n",
    "Complete the following function to compute the inverse regression estimate, i.e. predict the input_feature given the output."
   ]
  },
  {
   "cell_type": "code",
   "execution_count": 57,
   "metadata": {
    "collapsed": true
   },
   "outputs": [],
   "source": [
    "def inverse_regression_predictions(output, intercept, slope):\n",
    "    # solve output = intercept + slope*input_feature for input_feature. Use this equation to compute the inverse predictions:\n",
    "    estimated_feature = (output - intercept)/slope\n",
    "    return estimated_feature"
   ]
  },
  {
   "cell_type": "markdown",
   "metadata": {},
   "source": [
    "Now that we have a function to compute the squarefeet given the price from our simple regression model let's see how big we might expect a house that costs $800,000 to be.\n",
    "\n",
    "**Quiz Question: According to this function and the regression slope and intercept from (3) what is the estimated square-feet for a house costing $800,000?**"
   ]
  },
  {
   "cell_type": "code",
   "execution_count": 61,
   "metadata": {
    "collapsed": false
   },
   "outputs": [
    {
     "name": "stdout",
     "output_type": "stream",
     "text": [
      "The estimated squarefeet for a house worth $800000.00 is 3004\n"
     ]
    }
   ],
   "source": [
    "my_house_price = 800000\n",
    "estimated_squarefeet = inverse_regression_predictions(my_house_price, sqft_intercept, sqft_slope)\n",
    "print \"The estimated squarefeet for a house worth $%.2f is %d\" % (my_house_price, estimated_squarefeet)"
   ]
  },
  {
   "cell_type": "markdown",
   "metadata": {},
   "source": [
    "# New Model: estimate prices from bedrooms"
   ]
  },
  {
   "cell_type": "markdown",
   "metadata": {},
   "source": [
    "We have made one model for predicting house prices using squarefeet, but there are many other features in the sales SFrame. \n",
    "Use your simple linear regression function to estimate the regression parameters from predicting Prices based on number of bedrooms. Use the training data!"
   ]
  },
  {
   "cell_type": "code",
   "execution_count": 64,
   "metadata": {
    "collapsed": false,
    "scrolled": true
   },
   "outputs": [
    {
     "name": "stdout",
     "output_type": "stream",
     "text": [
      "109473.180469\n",
      "127588.952175\n"
     ]
    }
   ],
   "source": [
    "# Estimate the slope and intercept for predicting 'price' based on 'bedrooms'\n",
    "br_intercept, br_slope = simple_linear_regression(train_data['bedrooms'], train_data['price'])\n",
    "print(br_intercept)\n",
    "print(br_slope)\n"
   ]
  },
  {
   "cell_type": "markdown",
   "metadata": {},
   "source": [
    "# Test your Linear Regression Algorithm"
   ]
  },
  {
   "cell_type": "markdown",
   "metadata": {},
   "source": [
    "Now we have two models for predicting the price of a house. How do we know which one is better? Calculate the RSS on the TEST data (remember this data wasn't involved in learning the model). Compute the RSS from predicting prices using bedrooms and from predicting prices using squarefeet.\n",
    "\n",
    "**Quiz Question: Which model (square feet or bedrooms) has lowest RSS on TEST data? Think about why this might be the case.**"
   ]
  },
  {
   "cell_type": "code",
   "execution_count": 128,
   "metadata": {
    "collapsed": false
   },
   "outputs": [
    {
     "name": "stdout",
     "output_type": "stream",
     "text": [
      "(127588.95217458377, 109473.18046928808, dtype: float\n",
      "Rows: 4229\n",
      "[3.0, 4.0, 3.0, 3.0, 3.0, 4.0, 4.0, 4.0, 3.0, 4.0, 3.0, 4.0, 4.0, 3.0, 5.0, 4.0, 3.0, 3.0, 5.0, 3.0, 4.0, 3.0, 5.0, 3.0, 4.0, 3.0, 4.0, 3.0, 3.0, 3.0, 3.0, 4.0, 3.0, 2.0, 3.0, 2.0, 4.0, 5.0, 4.0, 3.0, 3.0, 1.0, 3.0, 4.0, 2.0, 5.0, 4.0, 3.0, 4.0, 3.0, 3.0, 3.0, 4.0, 4.0, 2.0, 3.0, 3.0, 2.0, 4.0, 2.0, 4.0, 3.0, 3.0, 3.0, 4.0, 3.0, 1.0, 4.0, 2.0, 4.0, 5.0, 4.0, 4.0, 4.0, 3.0, 4.0, 4.0, 3.0, 3.0, 4.0, 5.0, 2.0, 4.0, 3.0, 4.0, 3.0, 4.0, 2.0, 3.0, 4.0, 4.0, 3.0, 3.0, 3.0, 3.0, 3.0, 4.0, 3.0, 2.0, 2.0, ... ])\n",
      "The RSS of predicting Prices based on Bedrooms is : [33211431083.224358, 910289894.6473969, 67205396780.15242, 7789821069.99006, 1828414436.356642, 219898919.73348686, 24078042602.741592, 107144267149.498, 41306512636.93201, 2384270183.131866, 20517708197.767284, 67511103611.868866, 141623508087.92508, 59897685707.35428, 76960714178.54816, 19552146211.639294, 77150597049.62814, 767842049.847127, 48275973747.65747, 5218622944.755696, 72992375094.18825, 43802319584.54778, 242475428955.6971, 5218622944.755696, 35070431498.18018, 43363913006.862404, 88608030689.96898, 4521222574.825302, 53935434782.52829, 38118672045.04338, 47519656228.22667, 48475274010.95057, 34469621863.745995, 7165806160.941368, 45067059806.50602, 13293839842.040964, 125939096952.63403, 77051799288.69849, 3169008827807.9663, 53935434782.52829, 1073215176.2174293, 17645899003.724297, 79659438481.83223, 99180268218.14095, 37889044821.0016, 1696720019537.1743, 25654752711.06536, 26321829603.50278, 67511103611.868866, 3336213326.565461, 80432951431.97119, 31414030713.29396, 583957333796.5765, 608666806143.2125, 33616824698.249153, 770615546.147823, 68769837002.11066, 17596310303.513107, 14441071844.475218, 75817025091.65332, 102509476177.42593, 4577870594.103282, 51638034412.5979, 4521222574.825302, 4566919776.917737, 81590230733.3849, 3836299412.6253247, 55305404335.921875, 5306964443.127847, 39931624911.75408, 2264052306.1136627, 36165013361.007965, 79427579135.2443, 92920712636.95496, 1784220725.173334, 32102251122.695675, 46603737964.03478, 5017765.730184838, 26321829603.50278, 94354029895.78413, 47270561217.48332, 160049947.08375835, 88404527799.44061, 24888205927.95759, 78864921156.90904, 6046611846.843886, 38741650976.74834, 13770767894.285295, 652476157837.0065, 135549893217.3341, 144529997477.31113, 20232228123.781208, 82506838851.76262, 25198399344.551506, 56282835152.45869, 20805188271.753365, 86924132853.6025, 23025038826.648956, 5439222511.899035, 2465230223.6494746, ... ]\n"
     ]
    }
   ],
   "source": [
    "# Compute RSS when using bedrooms on TEST data:\n",
    "# Estimate the slope and intercept for predicting 'price' based on 'bedrooms'\n",
    "rss_prices_on_bedrooms = get_residual_sum_of_squares(test_data['bedrooms'], test_data['price'], br_intercept, br_slope)\n",
    "print 'The RSS of predicting Prices based on Bedrooms is : ' + str(rss_prices_on_bedrooms)"
   ]
  },
  {
   "cell_type": "code",
   "execution_count": 129,
   "metadata": {
    "collapsed": false,
    "scrolled": false
   },
   "outputs": [
    {
     "name": "stdout",
     "output_type": "stream",
     "text": [
      "(281.9588385676974, -47116.07657494, dtype: float\n",
      "Rows: 4229\n",
      "[1430.0, 2950.0, 1710.0, 2320.0, 1090.0, 2620.0, 4220.0, 2250.0, 1260.0, 2750.0, 1790.0, 1900.0, 1980.0, 1960.0, 2030.0, 3230.0, 2910.0, 1170.0, 2820.0, 1060.0, 2550.0, 1250.0, 2060.0, 2020.0, 2680.0, 1560.0, 3880.0, 1120.0, 1670.0, 1940.0, 910.0, 2480.0, 2440.0, 850.0, 1750.0, 1510.0, 1720.0, 3760.0, 3650.0, 1810.0, 2100.0, 760.0, 1700.0, 2600.0, 860.0, 3830.0, 3500.0, 2420.0, 2160.0, 1970.0, 2040.0, 2200.0, 4290.0, 4290.0, 1470.0, 2030.0, 1450.0, 1240.0, 2050.0, 1070.0, 2490.0, 2930.0, 1420.0, 2500.0, 2580.0, 1390.0, 560.0, 2270.0, 990.0, 1750.0, 3040.0, 3520.0, 2090.0, 2180.0, 1640.0, 2510.0, 2120.0, 1980.0, 1600.0, 3300.0, 2720.0, 940.0, 1820.0, 1510.0, 2390.0, 2910.0, 2200.0, 950.0, 2350.0, 4040.0, 2610.0, 1250.0, 940.0, 1220.0, 1240.0, 2570.0, 1850.0, 2270.0, 1610.0, 630.0, ... ])\n",
      "The RSS of predicting Prices based on Square Feet is : [2123832992.713774, 18133988152.077328, 40817550224.58788, 703757540.0147297, 75504566381.05487, 7502345396.405982, 135240225913.98584, 86901916570.83531, 366801403.0234224, 24734082353.130257, 11791841192.1515, 16539430368.868483, 71643173108.65622, 66575996001.58124, 3053708019.2302647, 147157377837.80478, 11452428.291615428, 56251617961.64023, 48535547972.33091, 28304599244.68691, 47576787317.36037, 500975036.4773329, 77684353915.44595, 10494112860.345211, 9715333082.589342, 11824324876.821646, 16740275626.228428, 24436623140.548717, 26815760232.217167, 41161945959.74332, 4196906209.9385986, 35290687124.02831, 1371703107.7765162, 7647688558.4219265, 27676278749.98903, 10263357534.159908, 29895490898.096916, 142822661.80510294, 2010628472751.4922, 41302197654.53445, 399899383.0171381, 41098382193.948135, 49379039125.79502, 145219606534.39706, 643562040.0398397, 1034723762044.8962, 25516822365.486107, 93161881099.13527, 40769673173.93558, 1735319362.2262354, 102046356485.78816, 66663815420.67045, 49067858150.19989, 56412263242.024475, 32629575435.98976, 27671447.48169846, 17351275231.867474, 4972066704.087779, 43723001331.37655, 148548668367.01047, 81246985556.11526, 48015029555.573105, 7790793934.195685, 54187003199.75401, 16406465790.022346, 19101094422.05279, 35426439759.99514, 68680429657.8247, 42220726184.50601, 692315603.7086459, 226165284.9971146, 18327483167.176033, 41688613227.869446, 63783619645.552345, 1204338556.7056699, 19154391642.311356, 21516976570.652813, 447848180.62950104, 5478673966.088664, 1905489185.6697524, 36028581802.50834, 17976043500.41147, 20606318162.385967, 73635289172.01744, 82809010386.59648, 41365109891.11538, 22558047873.48768, 68254269043.197105, 468557781497.0173, 10815507303.23097, 96847623337.51212, 1995188090.266511, 167061613.9479546, 1341485377.1852753, 2257474074.6335588, 108582203629.5307, 22352574718.261883, 63721150753.79601, 13441539503.503944, 34033611378.022335, ... ]\n"
     ]
    }
   ],
   "source": [
    "# Compute RSS when using squarefeet on TEST data:\n",
    "rss_prices_on_sqft = get_residual_sum_of_squares(test_data['sqft_living'], test_data['price'], sqft_intercept, sqft_slope)\n",
    "print 'The RSS of predicting Prices based on Square Feet is : ' + str(rss_prices_on_sqft)"
   ]
  },
  {
   "cell_type": "markdown",
   "metadata": {},
   "source": [
    "**Answer to the above quiz**: I think predicting using squarefeet will have the lowest RSS on TEST data than using bedrooms.  A way to confirm this intuition is by comparing the sum of RSS of these 2 models."
   ]
  },
  {
   "cell_type": "code",
   "execution_count": 133,
   "metadata": {
    "collapsed": false,
    "scrolled": true
   },
   "outputs": [
    {
     "name": "stdout",
     "output_type": "stream",
     "text": [
      "Sum of RSS of bedrooms model on TEST data :4.93364582868e+14\n",
      "Sum of RSS of squarefeet model on TEST data :2.75402936247e+14\n",
      "The smaller sum of RSS is 2.75402936247e+14\n"
     ]
    }
   ],
   "source": [
    "print 'Sum of RSS of bedrooms model on TEST data :' + str(rss_prices_on_bedrooms.sum())\n",
    "print 'Sum of RSS of squarefeet model on TEST data :' + str(rss_prices_on_sqft.sum())\n",
    "print 'The smaller sum of RSS is ' + str(min(rss_prices_on_bedrooms.sum(),rss_prices_on_sqft.sum()))"
   ]
  },
  {
   "cell_type": "markdown",
   "metadata": {},
   "source": [
    "We can also plot the following plots."
   ]
  },
  {
   "cell_type": "code",
   "execution_count": 134,
   "metadata": {
    "collapsed": false
   },
   "outputs": [
    {
     "data": {
      "text/plain": [
       "[<matplotlib.lines.Line2D at 0x20e0bb00>,\n",
       " <matplotlib.lines.Line2D at 0x20e0bba8>]"
      ]
     },
     "execution_count": 134,
     "metadata": {},
     "output_type": "execute_result"
    },
    {
     "data": {
      "image/png": "[encoded data removed]",
      "text/plain": [
       "<matplotlib.figure.Figure at 0x1f6c4208>"
      ]
     },
     "metadata": {},
     "output_type": "display_data"
    }
   ],
   "source": [
    "bedrooms_model = graphlab.linear_regression.create(train_data, target='price', features=['bedrooms'],validation_set=test_data,verbose=False)\n",
    "import matplotlib.pyplot as plt\n",
    "%matplotlib inline\n",
    "\n",
    "plt.plot(test_data['bedrooms'], test_data['price'],'.',test_data['bedrooms'], bedrooms_model.predict(test_data))"
   ]
  },
  {
   "cell_type": "markdown",
   "metadata": {},
   "source": []
  },
  {
   "cell_type": "code",
   "execution_count": 135,
   "metadata": {
    "collapsed": false,
    "scrolled": false
   },
   "outputs": [
    {
     "data": {
      "text/plain": [
       "[<matplotlib.lines.Line2D at 0x21240fd0>,\n",
       " <matplotlib.lines.Line2D at 0x2124f0b8>]"
      ]
     },
     "execution_count": 135,
     "metadata": {},
     "output_type": "execute_result"
    },
    {
     "data": {
      "image/png": "[encoded data removed]",
      "text/plain": [
       "<matplotlib.figure.Figure at 0x20f3e7f0>"
      ]
     },
     "metadata": {},
     "output_type": "display_data"
    }
   ],
   "source": [
    "sqft_model = graphlab.linear_regression.create(train_data, target='price', features=['sqft_living'],validation_set=test_data,verbose=False)\n",
    "import matplotlib.pyplot as plt\n",
    "%matplotlib inline\n",
    "\n",
    "plt.plot(test_data['sqft_living'], test_data['price'],'.',test_data['sqft_living'], sqft_model.predict(test_data))"
   ]
  },
  {
   "cell_type": "markdown",
   "metadata": {},
   "source": [
    "It is obvious that the second regression model explains more test data than the first model."
   ]
  },
  {
   "cell_type": "markdown",
   "metadata": {},
   "source": []
  }
 ],
 "metadata": {
  "kernelspec": {
   "display_name": "Python 2",
   "language": "python",
   "name": "python2"
  }
 },
 "nbformat": 4,
 "nbformat_minor": 0
}
